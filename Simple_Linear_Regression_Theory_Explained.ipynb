{
 "cells": [
  {
   "cell_type": "markdown",
   "metadata": {},
   "source": [
    "# Simple Linear Regression explained "
   ]
  },
  {
   "cell_type": "code",
   "execution_count": 1,
   "metadata": {},
   "outputs": [],
   "source": [
    "x  <- c(4, 6, 9, 10, 4, 6, 4, 7, 8, 7)\n",
    "y  <- c(5, 6, 8, 10, 4, 8, 4, 9, 8, 9)\n",
    "\n",
    "df <- data.frame(x , y)\n",
    "\n",
    "linear_model <- lm(y ~ x , data = df )"
   ]
  },
  {
   "cell_type": "code",
   "execution_count": 2,
   "metadata": {},
   "outputs": [
    {
     "data": {
      "text/html": [
       "<ol class=list-inline>\n",
       "\t<li>10</li>\n",
       "\t<li>2</li>\n",
       "</ol>\n"
      ],
      "text/latex": [
       "\\begin{enumerate*}\n",
       "\\item 10\n",
       "\\item 2\n",
       "\\end{enumerate*}\n"
      ],
      "text/markdown": [
       "1. 10\n",
       "2. 2\n",
       "\n",
       "\n"
      ],
      "text/plain": [
       "[1] 10  2"
      ]
     },
     "metadata": {},
     "output_type": "display_data"
    }
   ],
   "source": [
    "dim(df)"
   ]
  },
  {
   "cell_type": "code",
   "execution_count": 3,
   "metadata": {},
   "outputs": [
    {
     "name": "stdout",
     "output_type": "stream",
     "text": [
      "'data.frame':\t10 obs. of  2 variables:\n",
      " $ x: num  4 6 9 10 4 6 4 7 8 7\n",
      " $ y: num  5 6 8 10 4 8 4 9 8 9\n"
     ]
    }
   ],
   "source": [
    "str(df)"
   ]
  },
  {
   "cell_type": "code",
   "execution_count": 4,
   "metadata": {},
   "outputs": [
    {
     "data": {
      "text/plain": [
       "\n",
       "Call:\n",
       "lm(formula = y ~ x, data = df)\n",
       "\n",
       "Coefficients:\n",
       "(Intercept)            x  \n",
       "     1.2420       0.9012  \n"
      ]
     },
     "metadata": {},
     "output_type": "display_data"
    }
   ],
   "source": [
    "linear_model"
   ]
  },
  {
   "cell_type": "code",
   "execution_count": 5,
   "metadata": {},
   "outputs": [
    {
     "data": {
      "text/plain": [
       "\n",
       "Call:\n",
       "lm(formula = y ~ x, data = df)\n",
       "\n",
       "Residuals:\n",
       "    Min      1Q  Median      3Q     Max \n",
       "-1.3531 -0.7975 -0.3531  1.0512  1.4494 \n",
       "\n",
       "Coefficients:\n",
       "            Estimate Std. Error t value Pr(>|t|)    \n",
       "(Intercept)   1.2420     1.1957   1.039 0.329319    \n",
       "x             0.9012     0.1757   5.129 0.000898 ***\n",
       "---\n",
       "Signif. codes:  0 '***' 0.001 '**' 0.01 '*' 0.05 '.' 0.1 ' ' 1\n",
       "\n",
       "Residual standard error: 1.118 on 8 degrees of freedom\n",
       "Multiple R-squared:  0.7668,\tAdjusted R-squared:  0.7376 \n",
       "F-statistic:  26.3 on 1 and 8 DF,  p-value: 0.0008976\n"
      ]
     },
     "metadata": {},
     "output_type": "display_data"
    }
   ],
   "source": [
    "summary(linear_model)"
   ]
  },
  {
   "cell_type": "code",
   "execution_count": 6,
   "metadata": {},
   "outputs": [
    {
     "data": {
      "text/html": [
       "0.766784655673545"
      ],
      "text/latex": [
       "0.766784655673545"
      ],
      "text/markdown": [
       "0.766784655673545"
      ],
      "text/plain": [
       "[1] 0.7667847"
      ]
     },
     "metadata": {},
     "output_type": "display_data"
    }
   ],
   "source": [
    "summary(linear_model)$r.squared "
   ]
  },
  {
   "cell_type": "code",
   "execution_count": 7,
   "metadata": {},
   "outputs": [
    {
     "data": {
      "text/html": [
       "0.737632737632738"
      ],
      "text/latex": [
       "0.737632737632738"
      ],
      "text/markdown": [
       "0.737632737632738"
      ],
      "text/plain": [
       "[1] 0.7376327"
      ]
     },
     "metadata": {},
     "output_type": "display_data"
    }
   ],
   "source": [
    "summary(linear_model)$adj.r.squared"
   ]
  },
  {
   "cell_type": "code",
   "execution_count": 8,
   "metadata": {},
   "outputs": [
    {
     "data": {
      "text/html": [
       "<table>\n",
       "<thead><tr><th></th><th scope=col>Estimate</th><th scope=col>Std. Error</th><th scope=col>t value</th><th scope=col>Pr(&gt;|t|)</th></tr></thead>\n",
       "<tbody>\n",
       "\t<tr><th scope=row>(Intercept)</th><td>1.2419753  </td><td>1.1957082  </td><td>1.038694   </td><td>0.329318987</td></tr>\n",
       "\t<tr><th scope=row>x</th><td>0.9012346  </td><td>0.1757255  </td><td>5.128651   </td><td>0.000897576</td></tr>\n",
       "</tbody>\n",
       "</table>\n"
      ],
      "text/latex": [
       "\\begin{tabular}{r|llll}\n",
       "  & Estimate & Std. Error & t value & Pr(>\\textbar{}t\\textbar{})\\\\\n",
       "\\hline\n",
       "\t(Intercept) & 1.2419753   & 1.1957082   & 1.038694    & 0.329318987\\\\\n",
       "\tx & 0.9012346   & 0.1757255   & 5.128651    & 0.000897576\\\\\n",
       "\\end{tabular}\n"
      ],
      "text/markdown": [
       "\n",
       "| <!--/--> | Estimate | Std. Error | t value | Pr(>|t|) | \n",
       "|---|---|\n",
       "| (Intercept) | 1.2419753   | 1.1957082   | 1.038694    | 0.329318987 | \n",
       "| x | 0.9012346   | 0.1757255   | 5.128651    | 0.000897576 | \n",
       "\n",
       "\n"
      ],
      "text/plain": [
       "            Estimate  Std. Error t value  Pr(>|t|)   \n",
       "(Intercept) 1.2419753 1.1957082  1.038694 0.329318987\n",
       "x           0.9012346 0.1757255  5.128651 0.000897576"
      ]
     },
     "metadata": {},
     "output_type": "display_data"
    }
   ],
   "source": [
    "summary(linear_model)$coefficient"
   ]
  },
  {
   "cell_type": "code",
   "execution_count": 9,
   "metadata": {},
   "outputs": [
    {
     "data": {
      "text/html": [
       "<dl class=dl-horizontal>\n",
       "\t<dt>value</dt>\n",
       "\t\t<dd>26.3030602171767</dd>\n",
       "\t<dt>numdf</dt>\n",
       "\t\t<dd>1</dd>\n",
       "\t<dt>dendf</dt>\n",
       "\t\t<dd>8</dd>\n",
       "</dl>\n"
      ],
      "text/latex": [
       "\\begin{description*}\n",
       "\\item[value] 26.3030602171767\n",
       "\\item[numdf] 1\n",
       "\\item[dendf] 8\n",
       "\\end{description*}\n"
      ],
      "text/markdown": [
       "value\n",
       ":   26.3030602171767numdf\n",
       ":   1dendf\n",
       ":   8\n",
       "\n"
      ],
      "text/plain": [
       "   value    numdf    dendf \n",
       "26.30306  1.00000  8.00000 "
      ]
     },
     "metadata": {},
     "output_type": "display_data"
    }
   ],
   "source": [
    "summary(linear_model)$fstatistic"
   ]
  },
  {
   "cell_type": "code",
   "execution_count": 10,
   "metadata": {},
   "outputs": [
    {
     "data": {
      "text/html": [
       "<dl class=dl-horizontal>\n",
       "\t<dt>1</dt>\n",
       "\t\t<dd>0.153086419753084</dd>\n",
       "\t<dt>2</dt>\n",
       "\t\t<dd>-0.649382716049384</dd>\n",
       "\t<dt>3</dt>\n",
       "\t\t<dd>-1.35308641975309</dd>\n",
       "\t<dt>4</dt>\n",
       "\t\t<dd>-0.254320987654321</dd>\n",
       "\t<dt>5</dt>\n",
       "\t\t<dd>-0.846913580246913</dd>\n",
       "\t<dt>6</dt>\n",
       "\t\t<dd>1.35061728395062</dd>\n",
       "\t<dt>7</dt>\n",
       "\t\t<dd>-0.846913580246913</dd>\n",
       "\t<dt>8</dt>\n",
       "\t\t<dd>1.44938271604938</dd>\n",
       "\t<dt>9</dt>\n",
       "\t\t<dd>-0.451851851851852</dd>\n",
       "\t<dt>10</dt>\n",
       "\t\t<dd>1.44938271604938</dd>\n",
       "</dl>\n"
      ],
      "text/latex": [
       "\\begin{description*}\n",
       "\\item[1] 0.153086419753084\n",
       "\\item[2] -0.649382716049384\n",
       "\\item[3] -1.35308641975309\n",
       "\\item[4] -0.254320987654321\n",
       "\\item[5] -0.846913580246913\n",
       "\\item[6] 1.35061728395062\n",
       "\\item[7] -0.846913580246913\n",
       "\\item[8] 1.44938271604938\n",
       "\\item[9] -0.451851851851852\n",
       "\\item[10] 1.44938271604938\n",
       "\\end{description*}\n"
      ],
      "text/markdown": [
       "1\n",
       ":   0.1530864197530842\n",
       ":   -0.6493827160493843\n",
       ":   -1.353086419753094\n",
       ":   -0.2543209876543215\n",
       ":   -0.8469135802469136\n",
       ":   1.350617283950627\n",
       ":   -0.8469135802469138\n",
       ":   1.449382716049389\n",
       ":   -0.45185185185185210\n",
       ":   1.44938271604938\n",
       "\n"
      ],
      "text/plain": [
       "         1          2          3          4          5          6          7 \n",
       " 0.1530864 -0.6493827 -1.3530864 -0.2543210 -0.8469136  1.3506173 -0.8469136 \n",
       "         8          9         10 \n",
       " 1.4493827 -0.4518519  1.4493827 "
      ]
     },
     "metadata": {},
     "output_type": "display_data"
    }
   ],
   "source": [
    "summary(linear_model)$residuals"
   ]
  },
  {
   "cell_type": "code",
   "execution_count": 11,
   "metadata": {},
   "outputs": [
    {
     "data": {
      "text/html": [
       "10.0049382716049"
      ],
      "text/latex": [
       "10.0049382716049"
      ],
      "text/markdown": [
       "10.0049382716049"
      ],
      "text/plain": [
       "[1] 10.00494"
      ]
     },
     "metadata": {},
     "output_type": "display_data"
    }
   ],
   "source": [
    "deviance(linear_model) #residual sum of squares"
   ]
  },
  {
   "cell_type": "code",
   "execution_count": 12,
   "metadata": {},
   "outputs": [
    {
     "data": {
      "text/html": [
       "<dl class=dl-horizontal>\n",
       "\t<dt>1</dt>\n",
       "\t\t<dd>4.84691358024691</dd>\n",
       "\t<dt>2</dt>\n",
       "\t\t<dd>6.64938271604938</dd>\n",
       "\t<dt>3</dt>\n",
       "\t\t<dd>9.35308641975308</dd>\n",
       "\t<dt>4</dt>\n",
       "\t\t<dd>10.2543209876543</dd>\n",
       "\t<dt>5</dt>\n",
       "\t\t<dd>4.84691358024691</dd>\n",
       "\t<dt>6</dt>\n",
       "\t\t<dd>6.64938271604938</dd>\n",
       "\t<dt>7</dt>\n",
       "\t\t<dd>4.84691358024691</dd>\n",
       "\t<dt>8</dt>\n",
       "\t\t<dd>7.55061728395062</dd>\n",
       "\t<dt>9</dt>\n",
       "\t\t<dd>8.45185185185185</dd>\n",
       "\t<dt>10</dt>\n",
       "\t\t<dd>7.55061728395062</dd>\n",
       "</dl>\n"
      ],
      "text/latex": [
       "\\begin{description*}\n",
       "\\item[1] 4.84691358024691\n",
       "\\item[2] 6.64938271604938\n",
       "\\item[3] 9.35308641975308\n",
       "\\item[4] 10.2543209876543\n",
       "\\item[5] 4.84691358024691\n",
       "\\item[6] 6.64938271604938\n",
       "\\item[7] 4.84691358024691\n",
       "\\item[8] 7.55061728395062\n",
       "\\item[9] 8.45185185185185\n",
       "\\item[10] 7.55061728395062\n",
       "\\end{description*}\n"
      ],
      "text/markdown": [
       "1\n",
       ":   4.846913580246912\n",
       ":   6.649382716049383\n",
       ":   9.353086419753084\n",
       ":   10.25432098765435\n",
       ":   4.846913580246916\n",
       ":   6.649382716049387\n",
       ":   4.846913580246918\n",
       ":   7.550617283950629\n",
       ":   8.4518518518518510\n",
       ":   7.55061728395062\n",
       "\n"
      ],
      "text/plain": [
       "        1         2         3         4         5         6         7         8 \n",
       " 4.846914  6.649383  9.353086 10.254321  4.846914  6.649383  4.846914  7.550617 \n",
       "        9        10 \n",
       " 8.451852  7.550617 "
      ]
     },
     "metadata": {},
     "output_type": "display_data"
    }
   ],
   "source": [
    "predict(linear_model)"
   ]
  },
  {
   "cell_type": "code",
   "execution_count": 13,
   "metadata": {},
   "outputs": [],
   "source": [
    "p <- predict(linear_model)"
   ]
  },
  {
   "cell_type": "code",
   "execution_count": 14,
   "metadata": {},
   "outputs": [],
   "source": [
    "rss <- c(crossprod(y - p)) # y given values[ observed value] , p = predicted values from model "
   ]
  },
  {
   "cell_type": "code",
   "execution_count": 15,
   "metadata": {},
   "outputs": [
    {
     "data": {
      "text/html": [
       "10.0049382716049"
      ],
      "text/latex": [
       "10.0049382716049"
      ],
      "text/markdown": [
       "10.0049382716049"
      ],
      "text/plain": [
       "[1] 10.00494"
      ]
     },
     "metadata": {},
     "output_type": "display_data"
    }
   ],
   "source": [
    "rss "
   ]
  },
  {
   "cell_type": "code",
   "execution_count": 16,
   "metadata": {},
   "outputs": [],
   "source": [
    "rss1 <- sum((y -p)^2)"
   ]
  },
  {
   "cell_type": "code",
   "execution_count": 17,
   "metadata": {},
   "outputs": [
    {
     "data": {
      "text/html": [
       "10.0049382716049"
      ],
      "text/latex": [
       "10.0049382716049"
      ],
      "text/markdown": [
       "10.0049382716049"
      ],
      "text/plain": [
       "[1] 10.00494"
      ]
     },
     "metadata": {},
     "output_type": "display_data"
    }
   ],
   "source": [
    "rss1"
   ]
  },
  {
   "cell_type": "markdown",
   "metadata": {},
   "source": [
    "now we need to calculate tss [ total sum of squared ] "
   ]
  },
  {
   "cell_type": "code",
   "execution_count": 18,
   "metadata": {},
   "outputs": [],
   "source": [
    "tss <- c(crossprod(y - mean(y))) "
   ]
  },
  {
   "cell_type": "code",
   "execution_count": 19,
   "metadata": {},
   "outputs": [
    {
     "data": {
      "text/html": [
       "42.9"
      ],
      "text/latex": [
       "42.9"
      ],
      "text/markdown": [
       "42.9"
      ],
      "text/plain": [
       "[1] 42.9"
      ]
     },
     "metadata": {},
     "output_type": "display_data"
    }
   ],
   "source": [
    "tss "
   ]
  },
  {
   "cell_type": "code",
   "execution_count": 20,
   "metadata": {},
   "outputs": [],
   "source": [
    "r_squared <- 1 - (rss / tss )"
   ]
  },
  {
   "cell_type": "markdown",
   "metadata": {},
   "source": [
    "R-squared = 1 - [(Sum of Square Error)/(Total Sum of Square)]"
   ]
  },
  {
   "cell_type": "code",
   "execution_count": 21,
   "metadata": {},
   "outputs": [
    {
     "data": {
      "text/html": [
       "0.766784655673544"
      ],
      "text/latex": [
       "0.766784655673544"
      ],
      "text/markdown": [
       "0.766784655673544"
      ],
      "text/plain": [
       "[1] 0.7667847"
      ]
     },
     "metadata": {},
     "output_type": "display_data"
    }
   ],
   "source": [
    "r_squared # Higher the R-squared, the better the model fits your data"
   ]
  },
  {
   "cell_type": "code",
   "execution_count": 22,
   "metadata": {},
   "outputs": [
    {
     "data": {
      "text/html": [
       "10.0049382716049"
      ],
      "text/latex": [
       "10.0049382716049"
      ],
      "text/markdown": [
       "10.0049382716049"
      ],
      "text/plain": [
       "[1] 10.00494"
      ]
     },
     "metadata": {},
     "output_type": "display_data"
    }
   ],
   "source": [
    "c(crossprod(summary(linear_model)$residuals))"
   ]
  },
  {
   "cell_type": "markdown",
   "metadata": {},
   "source": [
    "Adjusted R-squared\n",
    "\n",
    "    It measures the proportion of variation explained by only those independent variables that really affect the dependent variable. It penalizes you for adding independent variable that do not affect the dependent variable.\n",
    "    \n",
    "    Adjusted R-Squared is more important metrics than R-squared\n",
    "    \n",
    "    \n",
    "    Every time you add a independent variable to a model, the R-squared increases, even if the independent variable is insignificant. It never declines. Whereas Adjusted R-squared increases only when independent variable is significant and affects dependent variable.\n",
    "    \n"
   ]
  },
  {
   "cell_type": "markdown",
   "metadata": {},
   "source": [
    "So Far we have Seen and calculated RSS [ Residuals Sum of Squared ] , TSS [ Total Sum of Squared ]\n",
    "and Finally calculated R_Squared Values and compared with value optained from model . \n",
    "\n",
    "now ,\n",
    "\n",
    "Lets Calculate Following : \n",
    "\n",
    "1. MAE   ( Mean Absolute Error )\n",
    "2. MSE   ( Mean Squared Error )\n",
    "3. RMSE  ( Root Mean Squared Error )\n",
    "\n"
   ]
  },
  {
   "cell_type": "code",
   "execution_count": 23,
   "metadata": {},
   "outputs": [],
   "source": [
    "MAE <- mean(abs(y - p)) #y : given value , p : predicted value from model\n",
    "\n",
    "#  Absolute Means ,we need to take mode of the difference "
   ]
  },
  {
   "cell_type": "code",
   "execution_count": 24,
   "metadata": {},
   "outputs": [
    {
     "data": {
      "text/html": [
       "0.880493827160494"
      ],
      "text/latex": [
       "0.880493827160494"
      ],
      "text/markdown": [
       "0.880493827160494"
      ],
      "text/plain": [
       "[1] 0.8804938"
      ]
     },
     "metadata": {},
     "output_type": "display_data"
    }
   ],
   "source": [
    "MAE"
   ]
  },
  {
   "cell_type": "code",
   "execution_count": 25,
   "metadata": {},
   "outputs": [],
   "source": [
    "MSE <- mean((y - p)^2)"
   ]
  },
  {
   "cell_type": "code",
   "execution_count": 26,
   "metadata": {},
   "outputs": [
    {
     "data": {
      "text/html": [
       "1.00049382716049"
      ],
      "text/latex": [
       "1.00049382716049"
      ],
      "text/markdown": [
       "1.00049382716049"
      ],
      "text/plain": [
       "[1] 1.000494"
      ]
     },
     "metadata": {},
     "output_type": "display_data"
    }
   ],
   "source": [
    "MSE"
   ]
  },
  {
   "cell_type": "markdown",
   "metadata": {},
   "source": [
    "Root Mean Square Error (RMSE) is the standard deviation of the residuals (prediction errors). Residuals are a measure of how far from the regression line data points are; RMSE is a measure of how spread out these residuals are. In other words, it tells you how concentrated the data is around the line of best fit.\n",
    "\n",
    "\n",
    "The root-mean-square deviation (RMSD) or root-mean-square error (RMSE) (or sometimes root-mean-squared error) is a frequently used measure of the differences between values (sample or population values) predicted by a model or an estimator and the values observed.\n",
    "\n",
    "Lower values of RMSE indicate better fit.\n"
   ]
  },
  {
   "cell_type": "code",
   "execution_count": 27,
   "metadata": {},
   "outputs": [],
   "source": [
    "RMSE <- sqrt(MSE)"
   ]
  },
  {
   "cell_type": "code",
   "execution_count": 28,
   "metadata": {},
   "outputs": [
    {
     "data": {
      "text/html": [
       "1.00024688310461"
      ],
      "text/latex": [
       "1.00024688310461"
      ],
      "text/markdown": [
       "1.00024688310461"
      ],
      "text/plain": [
       "[1] 1.000247"
      ]
     },
     "metadata": {},
     "output_type": "display_data"
    }
   ],
   "source": [
    "RMSE"
   ]
  },
  {
   "cell_type": "markdown",
   "metadata": {},
   "source": [
    "Credit : StackOverFlow \n",
    "\n",
    "Residual sum of squares:\n",
    "\n",
    "RSS <- c(crossprod(res$residuals))\n",
    "\n",
    "Mean squared error:\n",
    "\n",
    "MSE <- RSS / length(res$residuals)\n",
    "\n",
    "Root MSE:\n",
    "\n",
    "RMSE <- sqrt(MSE)\n",
    "\n",
    "Pearson estimated residual variance (as returned by summary.lm):\n",
    "\n",
    "sig2 <- RSS / res$df.residual\n",
    "\n",
    "Statistically, MSE is the maximum likelihood estimator of residual variance, but is biased (downward). The Pearson one is the restricted maximum likelihood estimator of residual variance, which is unbiased.\n",
    "\n",
    "Remark\n",
    "\n",
    "    Given two vectors x and y, c(crossprod(x, y)) is equivalent to sum(x * y) but much faster. c(crossprod(x)) is likewise faster than sum(x ^ 2).\n",
    "    sum(x) / length(x) is also faster than mean(x).\n"
   ]
  },
  {
   "cell_type": "markdown",
   "metadata": {},
   "source": [
    "# Pearson Correlation : denoted by \" r \" \n",
    "\n",
    "###  Relation between \" r \" and R_squared value "
   ]
  },
  {
   "cell_type": "code",
   "execution_count": 29,
   "metadata": {},
   "outputs": [
    {
     "data": {
      "text/html": [
       "<table>\n",
       "<thead><tr><th></th><th scope=col>x</th><th scope=col>y</th></tr></thead>\n",
       "<tbody>\n",
       "\t<tr><th scope=row>x</th><td>1.0000000</td><td>0.8756624</td></tr>\n",
       "\t<tr><th scope=row>y</th><td>0.8756624</td><td>1.0000000</td></tr>\n",
       "</tbody>\n",
       "</table>\n"
      ],
      "text/latex": [
       "\\begin{tabular}{r|ll}\n",
       "  & x & y\\\\\n",
       "\\hline\n",
       "\tx & 1.0000000 & 0.8756624\\\\\n",
       "\ty & 0.8756624 & 1.0000000\\\\\n",
       "\\end{tabular}\n"
      ],
      "text/markdown": [
       "\n",
       "| <!--/--> | x | y | \n",
       "|---|---|\n",
       "| x | 1.0000000 | 0.8756624 | \n",
       "| y | 0.8756624 | 1.0000000 | \n",
       "\n",
       "\n"
      ],
      "text/plain": [
       "  x         y        \n",
       "x 1.0000000 0.8756624\n",
       "y 0.8756624 1.0000000"
      ]
     },
     "metadata": {},
     "output_type": "display_data"
    }
   ],
   "source": [
    "cor(df)"
   ]
  },
  {
   "cell_type": "code",
   "execution_count": 30,
   "metadata": {},
   "outputs": [],
   "source": [
    "r <- cor(x,y)"
   ]
  },
  {
   "cell_type": "code",
   "execution_count": 31,
   "metadata": {},
   "outputs": [
    {
     "data": {
      "text/html": [
       "0.875662409649715"
      ],
      "text/latex": [
       "0.875662409649715"
      ],
      "text/markdown": [
       "0.875662409649715"
      ],
      "text/plain": [
       "[1] 0.8756624"
      ]
     },
     "metadata": {},
     "output_type": "display_data"
    }
   ],
   "source": [
    "r "
   ]
  },
  {
   "cell_type": "code",
   "execution_count": 32,
   "metadata": {},
   "outputs": [],
   "source": [
    "R_squared_value <- (r)^2"
   ]
  },
  {
   "cell_type": "code",
   "execution_count": 33,
   "metadata": {},
   "outputs": [
    {
     "data": {
      "text/html": [
       "0.766784655673545"
      ],
      "text/latex": [
       "0.766784655673545"
      ],
      "text/markdown": [
       "0.766784655673545"
      ],
      "text/plain": [
       "[1] 0.7667847"
      ]
     },
     "metadata": {},
     "output_type": "display_data"
    }
   ],
   "source": [
    "R_squared_value "
   ]
  },
  {
   "cell_type": "markdown",
   "metadata": {},
   "source": [
    "It matched with above value which was calculate with the  help of linear model"
   ]
  },
  {
   "cell_type": "code",
   "execution_count": 34,
   "metadata": {},
   "outputs": [
    {
     "data": {
      "text/html": [
       "0.766784655673544"
      ],
      "text/latex": [
       "0.766784655673544"
      ],
      "text/markdown": [
       "0.766784655673544"
      ],
      "text/plain": [
       "[1] 0.7667847"
      ]
     },
     "metadata": {},
     "output_type": "display_data"
    }
   ],
   "source": [
    "r_squared # From Linear Model"
   ]
  },
  {
   "cell_type": "markdown",
   "metadata": {},
   "source": [
    "Degree of Freedom "
   ]
  },
  {
   "cell_type": "markdown",
   "metadata": {},
   "source": [
    "Degree_of_Freedom <- N - k \n",
    "\n",
    "## Where N = number of observations \n",
    "\n",
    "## WHere K = Number of Parameters ,we are estimating \n",
    "\n"
   ]
  },
  {
   "cell_type": "code",
   "execution_count": 35,
   "metadata": {},
   "outputs": [
    {
     "data": {
      "text/html": [
       "8"
      ],
      "text/latex": [
       "8"
      ],
      "text/markdown": [
       "8"
      ],
      "text/plain": [
       "[1] 8"
      ]
     },
     "metadata": {},
     "output_type": "display_data"
    }
   ],
   "source": [
    "Degree_of_Freedom <- 10 - 2 ;\n",
    "\n",
    "Degree_of_Freedom"
   ]
  },
  {
   "cell_type": "markdown",
   "metadata": {},
   "source": [
    "##### Degree_of_Freedom : Values Matched with optained values from Linear Model "
   ]
  },
  {
   "cell_type": "code",
   "execution_count": 36,
   "metadata": {},
   "outputs": [
    {
     "data": {
      "text/html": [
       "34.3837077167733"
      ],
      "text/latex": [
       "34.3837077167733"
      ],
      "text/markdown": [
       "34.3837077167733"
      ],
      "text/plain": [
       "[1] 34.38371"
      ]
     },
     "metadata": {},
     "output_type": "display_data"
    }
   ],
   "source": [
    "AIC(linear_model)"
   ]
  },
  {
   "cell_type": "code",
   "execution_count": 37,
   "metadata": {},
   "outputs": [
    {
     "data": {
      "text/html": [
       "35.2914629957555"
      ],
      "text/latex": [
       "35.2914629957555"
      ],
      "text/markdown": [
       "35.2914629957555"
      ],
      "text/plain": [
       "[1] 35.29146"
      ]
     },
     "metadata": {},
     "output_type": "display_data"
    }
   ],
   "source": [
    "BIC(linear_model)"
   ]
  },
  {
   "cell_type": "code",
   "execution_count": 38,
   "metadata": {},
   "outputs": [
    {
     "data": {
      "text/html": [
       "<table>\n",
       "<thead><tr><th></th><th scope=col>Df</th><th scope=col>Sum Sq</th><th scope=col>Mean Sq</th><th scope=col>F value</th><th scope=col>Pr(&gt;F)</th></tr></thead>\n",
       "<tbody>\n",
       "\t<tr><th scope=row>x</th><td>1          </td><td>32.89506   </td><td>32.895062  </td><td>26.30306   </td><td>0.000897576</td></tr>\n",
       "\t<tr><th scope=row>Residuals</th><td>8          </td><td>10.00494   </td><td> 1.250617  </td><td>      NA   </td><td>         NA</td></tr>\n",
       "</tbody>\n",
       "</table>\n"
      ],
      "text/latex": [
       "\\begin{tabular}{r|lllll}\n",
       "  & Df & Sum Sq & Mean Sq & F value & Pr(>F)\\\\\n",
       "\\hline\n",
       "\tx & 1           & 32.89506    & 32.895062   & 26.30306    & 0.000897576\\\\\n",
       "\tResiduals & 8           & 10.00494    &  1.250617   &       NA    &          NA\\\\\n",
       "\\end{tabular}\n"
      ],
      "text/markdown": [
       "\n",
       "| <!--/--> | Df | Sum Sq | Mean Sq | F value | Pr(>F) | \n",
       "|---|---|\n",
       "| x | 1           | 32.89506    | 32.895062   | 26.30306    | 0.000897576 | \n",
       "| Residuals | 8           | 10.00494    |  1.250617   |       NA    |          NA | \n",
       "\n",
       "\n"
      ],
      "text/plain": [
       "          Df Sum Sq   Mean Sq   F value  Pr(>F)     \n",
       "x         1  32.89506 32.895062 26.30306 0.000897576\n",
       "Residuals 8  10.00494  1.250617       NA          NA"
      ]
     },
     "metadata": {},
     "output_type": "display_data"
    }
   ],
   "source": [
    "anova(linear_model)"
   ]
  },
  {
   "cell_type": "markdown",
   "metadata": {},
   "source": [
    "##### Higher R-Squared and Adjusted R-Squared value, better the model. Whereas, lower the AIC and BIC score, better the model."
   ]
  },
  {
   "cell_type": "code",
   "execution_count": 39,
   "metadata": {},
   "outputs": [
    {
     "data": {
      "image/png": "[encoded data removed]",
      "text/plain": [
       "plot without title"
      ]
     },
     "metadata": {},
     "output_type": "display_data"
    }
   ],
   "source": [
    "plot(df);\n",
    "abline(linear_model,col = \"red\") #BEST FIT LINE of Linear regression\n"
   ]
  },
  {
   "cell_type": "markdown",
   "metadata": {},
   "source": [
    "#### The abline function is actually very powerful.We can add any arbitrary lines using this function. For example, we can add a horizontal line at write = 8 as follows."
   ]
  },
  {
   "cell_type": "code",
   "execution_count": 40,
   "metadata": {},
   "outputs": [
    {
     "data": {
      "image/png": "[encoded data removed]",
      "text/plain": [
       "plot without title"
      ]
     },
     "metadata": {},
     "output_type": "display_data"
    }
   ],
   "source": [
    "plot(df);abline(df,col = \"green\",h = 8) "
   ]
  },
  {
   "cell_type": "markdown",
   "metadata": {},
   "source": [
    "### Here is another example where we add a line of 45 degree angle passing through the origin. In this type of syntax, the first parameter is the intercept and the second one the slope."
   ]
  },
  {
   "cell_type": "code",
   "execution_count": 41,
   "metadata": {},
   "outputs": [
    {
     "data": {
      "image/png": "[encoded data removed]",
      "text/plain": [
       "plot without title"
      ]
     },
     "metadata": {},
     "output_type": "display_data"
    }
   ],
   "source": [
    "plot(df);abline(0,1,col = \"blue\") # REFERENCE : tan(45 degree)  = 1 "
   ]
  },
  {
   "cell_type": "markdown",
   "metadata": {},
   "source": [
    "### Plotting line with slope = 45 degree and intercept = 0.5 unit"
   ]
  },
  {
   "cell_type": "code",
   "execution_count": 42,
   "metadata": {},
   "outputs": [
    {
     "data": {
      "image/png": "[encoded data removed]",
      "text/plain": [
       "plot without title"
      ]
     },
     "metadata": {},
     "output_type": "display_data"
    }
   ],
   "source": [
    "plot(df);abline(0.5,1,col = \"blue\") # REFERENCE : tan(45 degree)  = 1 "
   ]
  },
  {
   "cell_type": "code",
   "execution_count": 43,
   "metadata": {},
   "outputs": [],
   "source": [
    "df$predict <- p"
   ]
  },
  {
   "cell_type": "code",
   "execution_count": 44,
   "metadata": {},
   "outputs": [
    {
     "data": {
      "text/html": [
       "<table>\n",
       "<thead><tr><th scope=col>x</th><th scope=col>y</th><th scope=col>predict</th></tr></thead>\n",
       "<tbody>\n",
       "\t<tr><td> 4       </td><td> 5       </td><td> 4.846914</td></tr>\n",
       "\t<tr><td> 6       </td><td> 6       </td><td> 6.649383</td></tr>\n",
       "\t<tr><td> 9       </td><td> 8       </td><td> 9.353086</td></tr>\n",
       "\t<tr><td>10       </td><td>10       </td><td>10.254321</td></tr>\n",
       "\t<tr><td> 4       </td><td> 4       </td><td> 4.846914</td></tr>\n",
       "\t<tr><td> 6       </td><td> 8       </td><td> 6.649383</td></tr>\n",
       "\t<tr><td> 4       </td><td> 4       </td><td> 4.846914</td></tr>\n",
       "\t<tr><td> 7       </td><td> 9       </td><td> 7.550617</td></tr>\n",
       "\t<tr><td> 8       </td><td> 8       </td><td> 8.451852</td></tr>\n",
       "\t<tr><td> 7       </td><td> 9       </td><td> 7.550617</td></tr>\n",
       "</tbody>\n",
       "</table>\n"
      ],
      "text/latex": [
       "\\begin{tabular}{r|lll}\n",
       " x & y & predict\\\\\n",
       "\\hline\n",
       "\t  4        &  5        &  4.846914\\\\\n",
       "\t  6        &  6        &  6.649383\\\\\n",
       "\t  9        &  8        &  9.353086\\\\\n",
       "\t 10        & 10        & 10.254321\\\\\n",
       "\t  4        &  4        &  4.846914\\\\\n",
       "\t  6        &  8        &  6.649383\\\\\n",
       "\t  4        &  4        &  4.846914\\\\\n",
       "\t  7        &  9        &  7.550617\\\\\n",
       "\t  8        &  8        &  8.451852\\\\\n",
       "\t  7        &  9        &  7.550617\\\\\n",
       "\\end{tabular}\n"
      ],
      "text/markdown": [
       "\n",
       "x | y | predict | \n",
       "|---|---|---|---|---|---|---|---|---|---|\n",
       "|  4        |  5        |  4.846914 | \n",
       "|  6        |  6        |  6.649383 | \n",
       "|  9        |  8        |  9.353086 | \n",
       "| 10        | 10        | 10.254321 | \n",
       "|  4        |  4        |  4.846914 | \n",
       "|  6        |  8        |  6.649383 | \n",
       "|  4        |  4        |  4.846914 | \n",
       "|  7        |  9        |  7.550617 | \n",
       "|  8        |  8        |  8.451852 | \n",
       "|  7        |  9        |  7.550617 | \n",
       "\n",
       "\n"
      ],
      "text/plain": [
       "   x  y  predict  \n",
       "1   4  5  4.846914\n",
       "2   6  6  6.649383\n",
       "3   9  8  9.353086\n",
       "4  10 10 10.254321\n",
       "5   4  4  4.846914\n",
       "6   6  8  6.649383\n",
       "7   4  4  4.846914\n",
       "8   7  9  7.550617\n",
       "9   8  8  8.451852\n",
       "10  7  9  7.550617"
      ]
     },
     "metadata": {},
     "output_type": "display_data"
    }
   ],
   "source": [
    "df"
   ]
  },
  {
   "cell_type": "code",
   "execution_count": null,
   "metadata": {},
   "outputs": [],
   "source": []
  }
 ],
 "metadata": {
  "kernelspec": {
   "display_name": "R",
   "language": "R",
   "name": "ir"
  },
  "language_info": {
   "codemirror_mode": "r",
   "file_extension": ".r",
   "mimetype": "text/x-r-source",
   "name": "R",
   "pygments_lexer": "r",
   "version": "3.4.3"
  }
 },
 "nbformat": 4,
 "nbformat_minor": 2
}
